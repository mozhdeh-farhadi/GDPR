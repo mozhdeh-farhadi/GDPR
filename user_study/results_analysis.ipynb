{
 "cells": [
  {
   "cell_type": "markdown",
   "metadata": {},
   "source": [
    "## Results Analysis"
   ]
  },
  {
   "cell_type": "code",
   "execution_count": 76,
   "metadata": {},
   "outputs": [],
   "source": [
    "import pandas as pd\n",
    "from collections import defaultdict, Counter\n",
    "import seaborn as sns\n",
    "import matplotlib.pyplot as plt\n",
    "import numpy as np\n",
    "%matplotlib inline\n",
    "import csv\n",
    "import pprint\n",
    "import scipy.stats\n",
    "from scipy.stats import chi2_contingency"
   ]
  },
  {
   "cell_type": "code",
   "execution_count": 222,
   "metadata": {},
   "outputs": [],
   "source": [
    "results_df = pd.read_csv('./user_study_it3.csv', header=[0])"
   ]
  },
  {
   "cell_type": "markdown",
   "metadata": {},
   "source": [
    "_Completion Time_"
   ]
  },
  {
   "cell_type": "code",
   "execution_count": 223,
   "metadata": {},
   "outputs": [
    {
     "data": {
      "text/plain": [
       "count     470.000000\n",
       "mean      551.644681\n",
       "std       444.100427\n",
       "min        77.000000\n",
       "25%       289.000000\n",
       "50%       415.500000\n",
       "75%       637.000000\n",
       "max      3279.000000\n",
       "Name: Duration (in seconds), dtype: float64"
      ]
     },
     "execution_count": 223,
     "metadata": {},
     "output_type": "execute_result"
    }
   ],
   "source": [
    "duration = results_df['Duration (in seconds)'].drop([0, 1, 2]).astype(np.int64) \n",
    "duration.describe()"
   ]
  },
  {
   "cell_type": "code",
   "execution_count": 224,
   "metadata": {},
   "outputs": [
    {
     "name": "stdout",
     "output_type": "stream",
     "text": [
      "475.4575892857143\n"
     ]
    }
   ],
   "source": [
    "def reject_outliers(data, m=2):\n",
    "    return data[abs(data - np.mean(data)) < m * np.std(data)]\n",
    "\n",
    "time_arr = np.asarray(duration)\n",
    "santized = reject_outliers(time_arr)\n",
    "print(np.mean(santized))"
   ]
  },
  {
   "cell_type": "code",
   "execution_count": 225,
   "metadata": {},
   "outputs": [
    {
     "data": {
      "text/plain": [
       "8.00559413580247"
      ]
     },
     "execution_count": 225,
     "metadata": {},
     "output_type": "execute_result"
    }
   ],
   "source": [
    "480.33564814814815 / 60"
   ]
  },
  {
   "cell_type": "markdown",
   "metadata": {},
   "source": [
    "_Background Survey_"
   ]
  },
  {
   "cell_type": "code",
   "execution_count": 226,
   "metadata": {},
   "outputs": [],
   "source": [
    "bckgnd_tags = ['Q74', 'Q76', 'Q78', 'Q82', 'Q25']\n",
    "bckgnd_qs = ['age', 'gender', 'education','residence', 'mturk_id']"
   ]
  },
  {
   "cell_type": "code",
   "execution_count": 227,
   "metadata": {},
   "outputs": [],
   "source": [
    "ct = 0\n",
    "bckgnd_rows = []\n",
    "for idx, row in results_df.iterrows():\n",
    "    if ct < 3: \n",
    "            ct += 1\n",
    "            continue \n",
    "    bckgnd_dict = {'idx':str(idx)}\n",
    "    for qid in bckgnd_tags:\n",
    "        qidx = bckgnd_tags.index(qid)\n",
    "        bckgnd_dict[bckgnd_qs[qidx]] = row[qid]\n",
    "    bckgnd_rows.append(bckgnd_dict)"
   ]
  },
  {
   "cell_type": "code",
   "execution_count": 228,
   "metadata": {},
   "outputs": [
    {
     "data": {
      "text/html": [
       "<div>\n",
       "<style scoped>\n",
       "    .dataframe tbody tr th:only-of-type {\n",
       "        vertical-align: middle;\n",
       "    }\n",
       "\n",
       "    .dataframe tbody tr th {\n",
       "        vertical-align: top;\n",
       "    }\n",
       "\n",
       "    .dataframe thead th {\n",
       "        text-align: right;\n",
       "    }\n",
       "</style>\n",
       "<table border=\"1\" class=\"dataframe\">\n",
       "  <thead>\n",
       "    <tr style=\"text-align: right;\">\n",
       "      <th></th>\n",
       "      <th>age</th>\n",
       "      <th>education</th>\n",
       "      <th>gender</th>\n",
       "      <th>idx</th>\n",
       "      <th>mturk_id</th>\n",
       "      <th>residence</th>\n",
       "    </tr>\n",
       "  </thead>\n",
       "  <tbody>\n",
       "    <tr>\n",
       "      <th>0</th>\n",
       "      <td>52</td>\n",
       "      <td>Some college - no degree</td>\n",
       "      <td>male</td>\n",
       "      <td>3</td>\n",
       "      <td>A3N7R7P9HP2YB6</td>\n",
       "      <td>North America (United States, Canada)</td>\n",
       "    </tr>\n",
       "    <tr>\n",
       "      <th>1</th>\n",
       "      <td>25</td>\n",
       "      <td>Bachelors/4 year degree</td>\n",
       "      <td>female</td>\n",
       "      <td>4</td>\n",
       "      <td>A299J4PKHAEU9H</td>\n",
       "      <td>Asia &amp; Middle East</td>\n",
       "    </tr>\n",
       "    <tr>\n",
       "      <th>2</th>\n",
       "      <td>36</td>\n",
       "      <td>Bachelors/4 year degree</td>\n",
       "      <td>male</td>\n",
       "      <td>5</td>\n",
       "      <td>A2CCK1JKX48R0H</td>\n",
       "      <td>North America (United States, Canada)</td>\n",
       "    </tr>\n",
       "    <tr>\n",
       "      <th>3</th>\n",
       "      <td>36</td>\n",
       "      <td>Associates/2 year degree</td>\n",
       "      <td>female</td>\n",
       "      <td>6</td>\n",
       "      <td>AT116456PANMW</td>\n",
       "      <td>North America (United States, Canada)</td>\n",
       "    </tr>\n",
       "    <tr>\n",
       "      <th>4</th>\n",
       "      <td>50</td>\n",
       "      <td>Graduate degree - Masters, PhD, professional, ...</td>\n",
       "      <td>female</td>\n",
       "      <td>7</td>\n",
       "      <td>A2UHF7UL7G0Y78</td>\n",
       "      <td>North America (United States, Canada)</td>\n",
       "    </tr>\n",
       "  </tbody>\n",
       "</table>\n",
       "</div>"
      ],
      "text/plain": [
       "  age                                          education    gender idx  \\\n",
       "0  52                           Some college - no degree   male      3   \n",
       "1  25                            Bachelors/4 year degree  female     4   \n",
       "2  36                            Bachelors/4 year degree   male      5   \n",
       "3  36                           Associates/2 year degree  female     6   \n",
       "4  50  Graduate degree - Masters, PhD, professional, ...  female     7   \n",
       "\n",
       "         mturk_id                              residence  \n",
       "0  A3N7R7P9HP2YB6  North America (United States, Canada)  \n",
       "1  A299J4PKHAEU9H                     Asia & Middle East  \n",
       "2  A2CCK1JKX48R0H  North America (United States, Canada)  \n",
       "3   AT116456PANMW  North America (United States, Canada)  \n",
       "4  A2UHF7UL7G0Y78  North America (United States, Canada)  "
      ]
     },
     "execution_count": 228,
     "metadata": {},
     "output_type": "execute_result"
    }
   ],
   "source": [
    "bckgnd_df = pd.DataFrame.from_dict(bckgnd_rows)\n",
    "bckgnd_df.head()"
   ]
  },
  {
   "cell_type": "markdown",
   "metadata": {},
   "source": [
    "Age"
   ]
  },
  {
   "cell_type": "code",
   "execution_count": 229,
   "metadata": {},
   "outputs": [
    {
     "name": "stdout",
     "output_type": "stream",
     "text": [
      "38.76545842217484\n"
     ]
    }
   ],
   "source": [
    "list_ = []\n",
    "for el in np.array(bckgnd_df['age'].dropna().astype(int)):\n",
    "    if el > 1000: \n",
    "        list_.append(2019-el)\n",
    "    else: \n",
    "         list_.append(el)\n",
    "print(np.mean(list_))"
   ]
  },
  {
   "cell_type": "markdown",
   "metadata": {},
   "source": [
    "Residence"
   ]
  },
  {
   "cell_type": "code",
   "execution_count": 230,
   "metadata": {},
   "outputs": [
    {
     "name": "stdout",
     "output_type": "stream",
     "text": [
      "North America (United States, Canada)    380\n",
      "Asia & Middle East                        85\n",
      "Africa                                     2\n",
      "South America                              1\n",
      "Australia                                  1\n",
      "Europe                                     1\n",
      "Name: residence, dtype: int64\n"
     ]
    }
   ],
   "source": [
    "print(bckgnd_df['residence'].value_counts())"
   ]
  },
  {
   "cell_type": "code",
   "execution_count": 232,
   "metadata": {},
   "outputs": [
    {
     "data": {
      "text/plain": [
       "0.8102345415778252"
      ]
     },
     "execution_count": 232,
     "metadata": {},
     "output_type": "execute_result"
    }
   ],
   "source": [
    "# North America %\n",
    "380 / (380 + 85 + 2 + 1 + 1)"
   ]
  },
  {
   "cell_type": "markdown",
   "metadata": {},
   "source": [
    "Gender"
   ]
  },
  {
   "cell_type": "code",
   "execution_count": 233,
   "metadata": {},
   "outputs": [
    {
     "name": "stdout",
     "output_type": "stream",
     "text": [
      "male                    244\n",
      "female                  224\n",
      "I prefer not to tell      2\n",
      "Name: gender, dtype: int64\n"
     ]
    }
   ],
   "source": [
    "print(bckgnd_df['gender'].value_counts())"
   ]
  },
  {
   "cell_type": "code",
   "execution_count": 234,
   "metadata": {},
   "outputs": [
    {
     "data": {
      "text/plain": [
       "0.4765957446808511"
      ]
     },
     "execution_count": 234,
     "metadata": {},
     "output_type": "execute_result"
    }
   ],
   "source": [
    "# Female \n",
    "224 / (244 + 224 + 2)"
   ]
  },
  {
   "cell_type": "code",
   "execution_count": 235,
   "metadata": {},
   "outputs": [
    {
     "data": {
      "text/plain": [
       "470"
      ]
     },
     "execution_count": 235,
     "metadata": {},
     "output_type": "execute_result"
    }
   ],
   "source": [
    "(244 + 224 + 2)"
   ]
  },
  {
   "cell_type": "markdown",
   "metadata": {},
   "source": [
    "Education"
   ]
  },
  {
   "cell_type": "code",
   "execution_count": 236,
   "metadata": {},
   "outputs": [
    {
     "name": "stdout",
     "output_type": "stream",
     "text": [
      "Bachelors/4 year degree                                         217\n",
      "Some college - no degree                                         74\n",
      "Associates/2 year degree                                         66\n",
      "Graduate degree - Masters, PhD, professional, medicine, etc.     63\n",
      "High school graduate                                             46\n",
      "Some high school                                                  3\n",
      "Name: education, dtype: int64\n"
     ]
    }
   ],
   "source": [
    "print(bckgnd_df['education'].value_counts())"
   ]
  },
  {
   "cell_type": "code",
   "execution_count": 237,
   "metadata": {},
   "outputs": [
    {
     "data": {
      "text/plain": [
       "0.4626865671641791"
      ]
     },
     "execution_count": 237,
     "metadata": {},
     "output_type": "execute_result"
    }
   ],
   "source": [
    "# Bachelors \n",
    "217 / (217 + 74 + 66 + 63 + 46 + 3)"
   ]
  },
  {
   "cell_type": "code",
   "execution_count": 238,
   "metadata": {},
   "outputs": [
    {
     "data": {
      "text/plain": [
       "0.2622601279317697"
      ]
     },
     "execution_count": 238,
     "metadata": {},
     "output_type": "execute_result"
    }
   ],
   "source": [
    "# No Degree\n",
    "(74 + 46 + 3) / (217 + 74 + 66 + 63 + 46 + 3)"
   ]
  },
  {
   "cell_type": "code",
   "execution_count": null,
   "metadata": {},
   "outputs": [],
   "source": []
  },
  {
   "cell_type": "markdown",
   "metadata": {},
   "source": [
    "### Main Event - The results"
   ]
  },
  {
   "cell_type": "markdown",
   "metadata": {},
   "source": [
    "Create map structure"
   ]
  },
  {
   "cell_type": "code",
   "execution_count": 239,
   "metadata": {},
   "outputs": [
    {
     "data": {
      "text/html": [
       "<div>\n",
       "<style scoped>\n",
       "    .dataframe tbody tr th:only-of-type {\n",
       "        vertical-align: middle;\n",
       "    }\n",
       "\n",
       "    .dataframe tbody tr th {\n",
       "        vertical-align: top;\n",
       "    }\n",
       "\n",
       "    .dataframe thead th {\n",
       "        text-align: right;\n",
       "    }\n",
       "</style>\n",
       "<table border=\"1\" class=\"dataframe\">\n",
       "  <thead>\n",
       "    <tr style=\"text-align: right;\">\n",
       "      <th></th>\n",
       "      <th>usid</th>\n",
       "      <th>sType</th>\n",
       "      <th>pType</th>\n",
       "      <th>pid</th>\n",
       "    </tr>\n",
       "  </thead>\n",
       "  <tbody>\n",
       "    <tr>\n",
       "      <th>0</th>\n",
       "      <td>0</td>\n",
       "      <td>EU</td>\n",
       "      <td>pre</td>\n",
       "      <td>10145</td>\n",
       "    </tr>\n",
       "    <tr>\n",
       "      <th>1</th>\n",
       "      <td>1</td>\n",
       "      <td>EU</td>\n",
       "      <td>pre</td>\n",
       "      <td>10176</td>\n",
       "    </tr>\n",
       "    <tr>\n",
       "      <th>2</th>\n",
       "      <td>2</td>\n",
       "      <td>EU</td>\n",
       "      <td>pre</td>\n",
       "      <td>10301</td>\n",
       "    </tr>\n",
       "    <tr>\n",
       "      <th>3</th>\n",
       "      <td>3</td>\n",
       "      <td>EU</td>\n",
       "      <td>pre</td>\n",
       "      <td>1035</td>\n",
       "    </tr>\n",
       "    <tr>\n",
       "      <th>4</th>\n",
       "      <td>4</td>\n",
       "      <td>EU</td>\n",
       "      <td>pre</td>\n",
       "      <td>10453</td>\n",
       "    </tr>\n",
       "  </tbody>\n",
       "</table>\n",
       "</div>"
      ],
      "text/plain": [
       "  usid sType pType    pid\n",
       "0    0    EU   pre  10145\n",
       "1    1    EU   pre  10176\n",
       "2    2    EU   pre  10301\n",
       "3    3    EU   pre   1035\n",
       "4    4    EU   pre  10453"
      ]
     },
     "execution_count": 239,
     "metadata": {},
     "output_type": "execute_result"
    }
   ],
   "source": [
    "map_df = pd.read_csv('./image_map.csv', header=0)\n",
    "map_df['usid'] = map_df['usid'].astype(str)\n",
    "map_df['pid'] = map_df['pid'].astype(str)\n",
    "map_df.head()"
   ]
  },
  {
   "cell_type": "code",
   "execution_count": 240,
   "metadata": {},
   "outputs": [],
   "source": [
    "map_img_info = {}\n",
    "for index, row in map_df.iterrows():\n",
    "    map_img_info[row.get('usid')] = {\n",
    "        'set': row.get('sType'),\n",
    "        'period': row.get('pType'),\n",
    "        'pid': row.get('pid'),\n",
    "    }\n",
    "    continue"
   ]
  },
  {
   "cell_type": "markdown",
   "metadata": {},
   "source": [
    "Create result-holding structure"
   ]
  },
  {
   "cell_type": "code",
   "execution_count": 241,
   "metadata": {},
   "outputs": [
    {
     "name": "stdout",
     "output_type": "stream",
     "text": [
      "800\n"
     ]
    }
   ],
   "source": [
    "results = {}\n",
    "for img_id in range(800):\n",
    "    results[str(img_id)] = {\n",
    "        's1':[], \n",
    "        's2':[],\n",
    "        's3':[]\n",
    "    }\n",
    "print(len(results.keys()))"
   ]
  },
  {
   "cell_type": "markdown",
   "metadata": {},
   "source": [
    "Map Response Strings to Numbers"
   ]
  },
  {
   "cell_type": "code",
   "execution_count": 242,
   "metadata": {},
   "outputs": [],
   "source": [
    "resp_dict = {\n",
    "    'Strongly disagree':1,\n",
    "    'Somewhat disagree': 2,\n",
    "    'Neither agree nor disagree':3,\n",
    "    'Somewhat agree':4,\n",
    "    'Strongly agree': 5,\n",
    "}"
   ]
  },
  {
   "cell_type": "markdown",
   "metadata": {},
   "source": [
    "Iterate results and populate structure"
   ]
  },
  {
   "cell_type": "code",
   "execution_count": 243,
   "metadata": {},
   "outputs": [],
   "source": [
    "anchor_high_rows = []\n",
    "anchor_high_insts = 0\n",
    "for idx, row in results_df.iterrows(): \n",
    "    if idx in [0,1,2]:                # Subheaders and test row\n",
    "        continue\n",
    "    if row.get('Progress') != '100':  # Incomplete\n",
    "        continue\n",
    "    # Anchor Filter\n",
    "    are_anchors_valid = True\n",
    "    buff = []\n",
    "    for qid in range(1,23):\n",
    "        if qid in [6,14]:             # Anchors\n",
    "            for subqid in range(1,4):\n",
    "                score = row.get('Q' + str(qid) + '_' + str(subqid))\n",
    "                if resp_dict.get(score) > 3: \n",
    "                    are_anchors_valid = False\n",
    "                    if idx not in anchor_high_rows: \n",
    "                        anchor_high_rows.append(idx)\n",
    "                    anchor_high_insts += 1\n",
    "            continue\n",
    "        img_url = row.get('img_url_q' + str(qid))\n",
    "        img_id = img_url.split('/')[-1].replace('.png', '')\n",
    "        for subqid in range(1,4):\n",
    "            score = row.get('Q' + str(qid) + '_' + str(subqid))\n",
    "            buff.append(\n",
    "                {'img_id':img_id, 'subqid': 's' + str(subqid), 'score':resp_dict.get(score)}\n",
    "            ) # buffer til anchor filter\n",
    "            # if no anchor filter: results[img_id]['s' + str(subqid)].append(resp_dict.get(score))\n",
    "            continue\n",
    "        continue\n",
    "    # Anchor filter\n",
    "    if are_anchors_valid:\n",
    "        for inst in buff:\n",
    "            curr_arr = results.get(inst.get('img_id')).get(inst.get('subqid'))\n",
    "            curr_arr.append(inst.get('score'))\n",
    "            continue\n",
    "    continue"
   ]
  },
  {
   "cell_type": "code",
   "execution_count": 244,
   "metadata": {},
   "outputs": [
    {
     "data": {
      "text/plain": [
       "725"
      ]
     },
     "execution_count": 244,
     "metadata": {},
     "output_type": "execute_result"
    }
   ],
   "source": [
    "anchor_high_insts"
   ]
  },
  {
   "cell_type": "code",
   "execution_count": 245,
   "metadata": {},
   "outputs": [
    {
     "data": {
      "text/plain": [
       "187"
      ]
     },
     "execution_count": 245,
     "metadata": {},
     "output_type": "execute_result"
    }
   ],
   "source": [
    "len(anchor_high_rows)"
   ]
  },
  {
   "cell_type": "markdown",
   "metadata": {},
   "source": [
    "Remove before and after instances of images where one of the two instances has < 5 evaluations "
   ]
  },
  {
   "cell_type": "code",
   "execution_count": 246,
   "metadata": {},
   "outputs": [],
   "source": [
    "bad_pids = {'EU':[], 'Global':[]}\n",
    "for img_id in results:\n",
    "    eval_ct = len(results.get(img_id).get('s1'))\n",
    "    info_dict = map_img_info.get(img_id)\n",
    "    pid = info_dict.get('pid')\n",
    "    dataset = info_dict.get('set')\n",
    "    if eval_ct < 5: \n",
    "        if pid not in bad_pids.get(dataset): \n",
    "            bad_pids[dataset].append(pid)\n",
    "    continue"
   ]
  },
  {
   "cell_type": "code",
   "execution_count": 247,
   "metadata": {},
   "outputs": [
    {
     "name": "stdout",
     "output_type": "stream",
     "text": [
      "61 64\n"
     ]
    }
   ],
   "source": [
    "print(len(bad_pids.get('EU')), len(bad_pids.get('Global')))"
   ]
  },
  {
   "cell_type": "code",
   "execution_count": 248,
   "metadata": {},
   "outputs": [],
   "source": [
    "for img_id in map_img_info:\n",
    "    info_dict = map_img_info.get(img_id)\n",
    "    pid = info_dict.get('pid')\n",
    "    dataset = info_dict.get('set')\n",
    "    if pid in bad_pids.get(dataset):\n",
    "        del results[img_id]\n",
    "    continue"
   ]
  },
  {
   "cell_type": "code",
   "execution_count": 249,
   "metadata": {},
   "outputs": [
    {
     "name": "stdout",
     "output_type": "stream",
     "text": [
      "Expected Length: 550\n",
      "Actual Length: 550\n"
     ]
    }
   ],
   "source": [
    "expected_rms = 2*(len(bad_pids.get('EU')) + len(bad_pids.get('Global')))\n",
    "print('Expected Length:', 800 - expected_rms)\n",
    "print('Actual Length:', len(results))"
   ]
  },
  {
   "cell_type": "markdown",
   "metadata": {},
   "source": [
    "_Aggregate Analysis 1 - Average Rating And Support_"
   ]
  },
  {
   "cell_type": "code",
   "execution_count": 250,
   "metadata": {},
   "outputs": [
    {
     "name": "stdout",
     "output_type": "stream",
     "text": [
      "Total Images: 550\n",
      "Total Images: 550\n",
      "Total Images: 550\n",
      "Final Agg Results 1\n",
      "       set  sub_qid period    rating   support\n",
      "0       EU        1   post  3.273377  7.798561\n",
      "1       EU        1    pre  3.184248  7.841727\n",
      "2       EU        2   post  3.548938  7.798561\n",
      "3       EU        2    pre  3.472585  7.841727\n",
      "4       EU        3   post  3.256495  7.798561\n",
      "5       EU        3    pre  3.185670  7.841727\n",
      "6   Global        1   post  3.156443  7.720588\n",
      "7   Global        1    pre  3.107514  7.911765\n",
      "8   Global        2   post  3.450854  7.720588\n",
      "9   Global        2    pre  3.409502  7.911765\n",
      "10  Global        3   post  3.072185  7.720588\n",
      "11  Global        3    pre  3.082015  7.911765\n"
     ]
    }
   ],
   "source": [
    "agg_items = defaultdict(list)\n",
    "for subqid in range(1,4):\n",
    "    ids = []\n",
    "    for img_id in results:\n",
    "        period = map_img_info.get(img_id).get('period')\n",
    "        dataset = map_img_info.get(img_id).get('set')\n",
    "        ids.append(img_id)\n",
    "        results_arr = np.array(results[img_id]['s'+str(subqid)], dtype=np.int64)\n",
    "        if len(results_arr) == 0: \n",
    "            print('NO RESULTS:', img_id)\n",
    "            continue\n",
    "        av_rating = np.mean(results_arr)\n",
    "        support = len(results_arr)\n",
    "        agg_items['rating'].append(av_rating)\n",
    "        agg_items['period'].append(period)\n",
    "        agg_items['sub_qid'].append(subqid)\n",
    "        agg_items['support'].append(support)\n",
    "        agg_items['set'].append(dataset)\n",
    "    print('Total Images:', len(ids))\n",
    "print('Final Agg Results 1')\n",
    "agg_df_1 = pd.DataFrame.from_dict(agg_items)\n",
    "agg_df_1 = agg_df_1.groupby(['set','sub_qid', 'period'], as_index=False)['rating', 'support'].mean()\n",
    "print(agg_df_1)"
   ]
  },
  {
   "cell_type": "code",
   "execution_count": 251,
   "metadata": {},
   "outputs": [
    {
     "data": {
      "text/plain": [
       "7.81816025"
      ]
     },
     "execution_count": 251,
     "metadata": {},
     "output_type": "execute_result"
    }
   ],
   "source": [
    "(7.798561 + 7.841727 + 7.911765 + 7.720588) / 4"
   ]
  },
  {
   "cell_type": "markdown",
   "metadata": {},
   "source": [
    "_Aggregate Analysis 2 - Score Distributions & Statistical Tests of Distributions_"
   ]
  },
  {
   "cell_type": "markdown",
   "metadata": {},
   "source": [
    "Reprint response dict"
   ]
  },
  {
   "cell_type": "code",
   "execution_count": 252,
   "metadata": {},
   "outputs": [],
   "source": [
    "resp_dict = {\n",
    "    'Strongly disagree':1,\n",
    "    'Somewhat disagree': 2,\n",
    "    'Neither agree nor disagree':3,\n",
    "    'Somewhat agree':4,\n",
    "    'Strongly agree': 5,\n",
    "}"
   ]
  },
  {
   "cell_type": "markdown",
   "metadata": {},
   "source": [
    "Results structure"
   ]
  },
  {
   "cell_type": "code",
   "execution_count": 253,
   "metadata": {},
   "outputs": [],
   "source": [
    "agg_2_dict = {\n",
    "    'EU':{\n",
    "        's1': {\n",
    "            'pre':[0,0,0,0,0],\n",
    "            'post':[0,0,0,0,0],\n",
    "        },\n",
    "        's2': {\n",
    "            'pre':[0,0,0,0,0],\n",
    "            'post':[0,0,0,0,0],\n",
    "        },\n",
    "        's3': {\n",
    "            'pre':[0,0,0,0,0],\n",
    "            'post':[0,0,0,0,0],\n",
    "        },\n",
    "    },\n",
    "    'Global':{\n",
    "        's1': {\n",
    "            'pre':[0,0,0,0,0],\n",
    "            'post':[0,0,0,0,0],\n",
    "        },\n",
    "        's2': {\n",
    "            'pre':[0,0,0,0,0],\n",
    "            'post':[0,0,0,0,0],\n",
    "        },\n",
    "        's3': {\n",
    "            'pre':[0,0,0,0,0],\n",
    "            'post':[0,0,0,0,0],\n",
    "        },\n",
    "    }\n",
    "}"
   ]
  },
  {
   "cell_type": "code",
   "execution_count": 254,
   "metadata": {},
   "outputs": [],
   "source": [
    "for img_id in results:\n",
    "    dataset = map_img_info.get(img_id).get('set')\n",
    "    period  = map_img_info.get(img_id).get('period')\n",
    "    for subqid in results.get(img_id):\n",
    "        for score in results.get(img_id).get(subqid):\n",
    "            agg_2_dict.get(dataset).get(subqid).get(period)[score-1] += 1\n",
    "            continue\n",
    "        continue\n",
    "    continue"
   ]
  },
  {
   "cell_type": "code",
   "execution_count": 281,
   "metadata": {},
   "outputs": [
    {
     "name": "stdout",
     "output_type": "stream",
     "text": [
      "EU s1 pre\n",
      "D: 0.3247706422018349\n",
      "N: 0.1981651376146789\n",
      "A: 0.47706422018348627\n",
      "CHECKSUM: 1.0\n",
      "EU s1 post\n",
      "D: 0.2822878228782288\n",
      "N: 0.2066420664206642\n",
      "A: 0.511070110701107\n",
      "CHECKSUM: 1.0\n",
      "EU s2 pre\n",
      "D: 0.24770642201834864\n",
      "N: 0.16055045871559634\n",
      "A: 0.591743119266055\n",
      "CHECKSUM: 1.0\n",
      "EU s2 post\n",
      "D: 0.20940959409594095\n",
      "N: 0.16605166051660517\n",
      "A: 0.6245387453874539\n",
      "CHECKSUM: 1.0\n",
      "EU s3 pre\n",
      "D: 0.29541284403669726\n",
      "N: 0.26422018348623855\n",
      "A: 0.44036697247706424\n",
      "CHECKSUM: 1.0\n",
      "EU s3 post\n",
      "D: 0.25461254612546125\n",
      "N: 0.28044280442804426\n",
      "A: 0.46494464944649444\n",
      "CHECKSUM: 1.0\n",
      "Global s1 pre\n",
      "D: 0.3503717472118959\n",
      "N: 0.20353159851301114\n",
      "A: 0.44609665427509293\n",
      "CHECKSUM: 1.0\n",
      "Global s1 post\n",
      "D: 0.3361904761904762\n",
      "N: 0.2\n",
      "A: 0.4638095238095238\n",
      "CHECKSUM: 1.0\n",
      "Global s2 pre\n",
      "D: 0.2611524163568773\n",
      "N: 0.18401486988847585\n",
      "A: 0.5548327137546468\n",
      "CHECKSUM: 1.0\n",
      "Global s2 post\n",
      "D: 0.25523809523809526\n",
      "N: 0.1619047619047619\n",
      "A: 0.5828571428571429\n",
      "CHECKSUM: 1.0\n",
      "Global s3 pre\n",
      "D: 0.3252788104089219\n",
      "N: 0.27230483271375466\n",
      "A: 0.4024163568773234\n",
      "CHECKSUM: 1.0\n",
      "Global s3 post\n",
      "D: 0.32095238095238093\n",
      "N: 0.2923809523809524\n",
      "A: 0.38666666666666666\n",
      "CHECKSUM: 1.0\n"
     ]
    }
   ],
   "source": [
    "for dataset in agg_2_dict: \n",
    "    for subqid in ['s1', 's2', 's3']:\n",
    "        for period in ['pre', 'post']:\n",
    "            data_arr = agg_2_dict.get(dataset).get(subqid).get(period)\n",
    "            arr_sum = sum(data_arr)\n",
    "            ct = 1\n",
    "            checksum = 0\n",
    "#             for el in data_arr: \n",
    "#                 print(dataset, period, subqid, ct, el/arr_sum)\n",
    "#                 ct += 1\n",
    "#                 checksum += el/arr_sum\n",
    "#                 continue\n",
    "            neg = (data_arr[0] + data_arr[1]) / arr_sum\n",
    "            neut = data_arr[2] / arr_sum\n",
    "            pos = (data_arr[3] + data_arr[4]) / arr_sum\n",
    "            print(dataset, subqid, period)\n",
    "            print('D:', neg)\n",
    "            print('N:', neut)\n",
    "            print('A:', pos)\n",
    "            print('CHECKSUM:', neg + neut + pos)\n",
    "            continue\n",
    "        continue\n",
    "    continue"
   ]
  },
  {
   "cell_type": "markdown",
   "metadata": {},
   "source": [
    "Test Distributions"
   ]
  },
  {
   "cell_type": "code",
   "execution_count": 256,
   "metadata": {},
   "outputs": [
    {
     "name": "stdout",
     "output_type": "stream",
     "text": [
      "{'EU': {'s1': array([[ 94, 212, 224, 402, 152],\n",
      "       [107, 247, 216, 357, 163]]),\n",
      "        's2': array([[ 72, 155, 180, 453, 224],\n",
      "       [ 80, 190, 175, 414, 231]]),\n",
      "        's3': array([[ 92, 184, 304, 360, 144],\n",
      "       [109, 213, 288, 319, 161]])},\n",
      " 'Global': {'s1': array([[ 98, 255, 210, 351, 136],\n",
      "       [112, 265, 219, 362, 118]]),\n",
      "            's2': array([[ 79, 189, 170, 406, 206],\n",
      "       [ 87, 194, 198, 404, 193]]),\n",
      "            's3': array([[108, 229, 307, 287, 119],\n",
      "       [114, 236, 293, 318, 115]])}}\n"
     ]
    }
   ],
   "source": [
    "agg_3_dict = {\n",
    "    'EU':{},\n",
    "    'Global':{}\n",
    "}\n",
    "for dataset in agg_2_dict:\n",
    "    for subqid in ['s1', 's2', 's3']:\n",
    "        agg_3_dict.get(dataset)[subqid] = np.array([agg_2_dict.get(dataset).get(subqid).get('post'), agg_2_dict.get(dataset).get(subqid).get('pre')])\n",
    "pprint.pprint(agg_3_dict)"
   ]
  },
  {
   "cell_type": "code",
   "execution_count": 257,
   "metadata": {},
   "outputs": [],
   "source": [
    "chi_tests = {\n",
    "    'EU':{}, \n",
    "    'Global':{}\n",
    "}\n",
    "for dataset in agg_3_dict:\n",
    "    for subqid in agg_3_dict.get(dataset):\n",
    "        chi_tests[dataset][subqid] = chi2_contingency(observed=agg_3_dict.get(dataset).get(subqid))"
   ]
  },
  {
   "cell_type": "code",
   "execution_count": 258,
   "metadata": {},
   "outputs": [
    {
     "name": "stdout",
     "output_type": "stream",
     "text": [
      "{'EU': {'s1': (6.690698680472139,\n",
      "               0.15316443682412756,\n",
      "               4,\n",
      "               array([[100.22263109, 228.86660534, 219.39282429, 378.4526219 ,\n",
      "        157.06531739],\n",
      "       [100.77736891, 230.13339466, 220.60717571, 380.5473781 ,\n",
      "        157.93468261]])),\n",
      "        's2': (5.8877028806304175,\n",
      "               0.20769312037398546,\n",
      "               4,\n",
      "               array([[ 75.79024839, 172.02391904, 177.0101196 , 432.30358786,\n",
      "        226.87212511],\n",
      "       [ 76.20975161, 172.97608096, 177.9898804 , 434.69641214,\n",
      "        228.12787489]])),\n",
      "        's3': (7.395368821634824,\n",
      "               0.11641257672488715,\n",
      "               4,\n",
      "               array([[100.22263109, 197.95216191, 295.18307268, 338.56301748,\n",
      "        152.07911684],\n",
      "       [100.77736891, 199.04783809, 296.81692732, 340.43698252,\n",
      "        152.92088316]]))},\n",
      " 'Global': {'s1': (2.4421454716728754,\n",
      "                   0.6550246291343599,\n",
      "                   4,\n",
      "                   array([[103.7158984 , 256.82031985, 211.87676388, 352.14016933,\n",
      "        125.44684854],\n",
      "       [106.2841016 , 263.17968015, 217.12323612, 360.85983067,\n",
      "        128.55315146]])),\n",
      "            's2': (2.692182903765995,\n",
      "                   0.6105831954917149,\n",
      "                   4,\n",
      "                   array([[ 81.98494826, 189.15804327, 181.74976482, 400.04703669,\n",
      "        197.06020696],\n",
      "       [ 84.01505174, 193.84195673, 186.25023518, 409.95296331,\n",
      "        201.93979304]])),\n",
      "            's3': (1.9333321306006916,\n",
      "                   0.7480194423968409,\n",
      "                   4,\n",
      "                   array([[109.64252117, 229.65663217, 296.33113829, 298.80056444,\n",
      "        115.56914393],\n",
      "       [112.35747883, 235.34336783, 303.66886171, 306.19943556,\n",
      "        118.43085607]]))}}\n"
     ]
    }
   ],
   "source": [
    "pprint.pprint(chi_tests)"
   ]
  },
  {
   "cell_type": "markdown",
   "metadata": {},
   "source": [
    "Test EU v. Global Distributions for same conditions"
   ]
  },
  {
   "cell_type": "code",
   "execution_count": 259,
   "metadata": {},
   "outputs": [
    {
     "name": "stdout",
     "output_type": "stream",
     "text": [
      "{'s1': {'post': array([[ 94, 212, 224, 402, 152],\n",
      "       [ 98, 255, 210, 351, 136]]),\n",
      "        'pre': array([[107, 247, 216, 357, 163],\n",
      "       [112, 265, 219, 362, 118]])},\n",
      " 's2': {'post': array([[ 72, 155, 180, 453, 224],\n",
      "       [ 79, 189, 170, 406, 206]]),\n",
      "        'pre': array([[ 80, 190, 175, 414, 231],\n",
      "       [ 87, 194, 198, 404, 193]])},\n",
      " 's3': {'post': array([[ 92, 184, 304, 360, 144],\n",
      "       [108, 229, 307, 287, 119]]),\n",
      "        'pre': array([[109, 213, 288, 319, 161],\n",
      "       [114, 236, 293, 318, 115]])}}\n"
     ]
    }
   ],
   "source": [
    "agg_4_dict = {\n",
    "    's1':{}, \n",
    "    's2':{},\n",
    "    's3':{}\n",
    "}\n",
    "for subqid in ['s1', 's2', 's3']:\n",
    "    for period in ['pre', 'post']:\n",
    "        agg_4_dict[subqid][period] = np.array([agg_2_dict.get('EU').get(subqid).get(period), agg_2_dict.get('Global').get(subqid).get(period)])\n",
    "pprint.pprint(agg_4_dict)"
   ]
  },
  {
   "cell_type": "code",
   "execution_count": 260,
   "metadata": {},
   "outputs": [],
   "source": [
    "chi_tests = {\n",
    "    's1':{},\n",
    "    's2':{},\n",
    "    's3':{},\n",
    "}\n",
    "for subqid in agg_4_dict:\n",
    "    for period in agg_4_dict.get(subqid):\n",
    "        chi_tests[subqid][period] = chi2_contingency(observed=agg_4_dict.get(subqid).get(period))"
   ]
  },
  {
   "cell_type": "code",
   "execution_count": 261,
   "metadata": {},
   "outputs": [
    {
     "name": "stdout",
     "output_type": "stream",
     "text": [
      "{'s1': {'post': (8.297733790705031,\n",
      "                 0.08126090712813874,\n",
      "                 4,\n",
      "                 array([[ 97.52952202, 237.22024367, 220.45735708, 382.49859419,\n",
      "        146.29428304],\n",
      "       [ 94.47047798, 229.77975633, 213.54264292, 370.50140581,\n",
      "        141.70571696]])),\n",
      "        'pre': (7.9186750534673465,\n",
      "                0.09460306933246748,\n",
      "                4,\n",
      "                array([[110.20775623, 257.65466297, 218.90581717, 361.82363804,\n",
      "        141.40812558],\n",
      "       [108.79224377, 254.34533703, 216.09418283, 357.17636196,\n",
      "        139.59187442]]))},\n",
      " 's2': {'post': (6.7557751674350435,\n",
      "                 0.14937113031254753,\n",
      "                 4,\n",
      "                 array([[ 76.70290534, 174.74039363, 177.78819119, 436.34301781,\n",
      "        218.42549203],\n",
      "       [ 74.29709466, 169.25960637, 172.21180881, 422.65698219,\n",
      "        211.57450797]])),\n",
      "        'pre': (5.190947651262577,\n",
      "                0.26826015496127764,\n",
      "                4,\n",
      "                array([[ 84.03970452, 193.24099723, 187.70544783, 411.64358264,\n",
      "        213.37026777],\n",
      "       [ 82.96029548, 190.75900277, 185.29455217, 406.35641736,\n",
      "        210.62973223]]))},\n",
      " 's3': {'post': (16.273204707847057,\n",
      "                 0.0026736417856176864,\n",
      "                 4,\n",
      "                 array([[101.59325211, 209.7900656 , 310.36738519, 328.65417057,\n",
      "        133.59512652],\n",
      "       [ 98.40674789, 203.2099344 , 300.63261481, 318.34582943,\n",
      "        129.40487348]])),\n",
      "        'pre': (8.911430041078624,\n",
      "                0.06335183961865204,\n",
      "                4,\n",
      "                array([[112.22068329, 225.95106187, 292.37765466, 320.55863343,\n",
      "        138.89196676],\n",
      "       [110.77931671, 223.04893813, 288.62234534, 316.44136657,\n",
      "        137.10803324]]))}}\n"
     ]
    }
   ],
   "source": [
    "pprint.pprint(chi_tests)"
   ]
  },
  {
   "cell_type": "markdown",
   "metadata": {},
   "source": [
    "Test Aggregated Decisions"
   ]
  },
  {
   "cell_type": "code",
   "execution_count": 269,
   "metadata": {},
   "outputs": [
    {
     "name": "stdout",
     "output_type": "stream",
     "text": [
      "{'EU': {'s1': array([[306, 554],\n",
      "       [354, 520]]),\n",
      "        's2': array([[227, 677],\n",
      "       [270, 645]]),\n",
      "        's3': array([[276, 504],\n",
      "       [322, 480]])},\n",
      " 'Global': {'s1': array([[353, 487],\n",
      "       [377, 480]]),\n",
      "            's2': array([[268, 612],\n",
      "       [281, 597]]),\n",
      "            's3': array([[337, 406],\n",
      "       [350, 433]])}}\n"
     ]
    }
   ],
   "source": [
    "agg_5_dict = {\n",
    "    'EU':{},\n",
    "    'Global':{}\n",
    "}\n",
    "for dataset in agg_2_dict:\n",
    "    for subqid in ['s1', 's2', 's3']:\n",
    "        pre_dec_arr = agg_2_dict.get(dataset).get(subqid).get('pre')\n",
    "        pre_agg_dec = [\n",
    "            pre_dec_arr[0] + pre_dec_arr[1],\n",
    "            pre_dec_arr[3] + pre_dec_arr[4]\n",
    "        ]\n",
    "        \n",
    "        post_dec_arr = agg_2_dict.get(dataset).get(subqid).get('post')\n",
    "        post_agg_dec = [\n",
    "            post_dec_arr[0] + post_dec_arr[1],\n",
    "            post_dec_arr[3] + post_dec_arr[4]\n",
    "        ]\n",
    "        agg_5_dict.get(dataset)[subqid] = np.array([post_agg_dec, pre_agg_dec])\n",
    "        continue\n",
    "    continue\n",
    "pprint.pprint(agg_5_dict)"
   ]
  },
  {
   "cell_type": "code",
   "execution_count": 270,
   "metadata": {},
   "outputs": [],
   "source": [
    "chi_tests = {\n",
    "    'EU':{}, \n",
    "    'Global':{}\n",
    "}\n",
    "for dataset in agg_5_dict:\n",
    "    for subqid in agg_5_dict.get(dataset):\n",
    "        chi_tests[dataset][subqid] = chi2_contingency(observed=agg_5_dict.get(dataset).get(subqid))"
   ]
  },
  {
   "cell_type": "code",
   "execution_count": 271,
   "metadata": {},
   "outputs": [
    {
     "name": "stdout",
     "output_type": "stream",
     "text": [
      "{'EU': {'s1': (4.248179652847265,\n",
      "               0.03929242621470384,\n",
      "               1,\n",
      "               array([[327.33564014, 532.66435986],\n",
      "       [332.66435986, 541.33564014]])),\n",
      "        's2': (4.209858557049462,\n",
      "               0.04018968812221459,\n",
      "               1,\n",
      "               array([[246.99725124, 657.00274876],\n",
      "       [250.00274876, 664.99725124]])),\n",
      "        's3': (3.618647213259608,\n",
      "               0.05713531398918344,\n",
      "               1,\n",
      "               array([[294.84197219, 485.15802781],\n",
      "       [303.15802781, 498.84197219]]))},\n",
      " 'Global': {'s1': (0.5916449196428794,\n",
      "                   0.44178374251290076,\n",
      "                   1,\n",
      "                   array([[361.34354744, 478.65645256],\n",
      "       [368.65645256, 488.34354744]])),\n",
      "            's2': (0.4221377679086642,\n",
      "                   0.5158722625930325,\n",
      "                   1,\n",
      "                   array([[274.81228669, 605.18771331],\n",
      "       [274.18771331, 603.81228669]])),\n",
      "            's3': (0.0425559433474613,\n",
      "                   0.8365636714115443,\n",
      "                   1,\n",
      "                   array([[334.49606815, 408.50393185],\n",
      "       [352.50393185, 430.49606815]]))}}\n"
     ]
    }
   ],
   "source": [
    "pprint.pprint(chi_tests)"
   ]
  },
  {
   "cell_type": "code",
   "execution_count": 276,
   "metadata": {},
   "outputs": [
    {
     "name": "stdout",
     "output_type": "stream",
     "text": [
      "{'s1': {'post': array([[306, 554],\n",
      "       [353, 487]]),\n",
      "        'pre': array([[354, 520],\n",
      "       [377, 480]])},\n",
      " 's2': {'post': array([[227, 677],\n",
      "       [268, 612]]),\n",
      "        'pre': array([[270, 645],\n",
      "       [281, 597]])},\n",
      " 's3': {'post': array([[276, 504],\n",
      "       [337, 406]]),\n",
      "        'pre': array([[322, 480],\n",
      "       [350, 433]])}}\n"
     ]
    }
   ],
   "source": [
    "agg_6_dict = {\n",
    "    's1':{}, \n",
    "    's2':{},\n",
    "    's3':{}\n",
    "}\n",
    "for subqid in ['s1', 's2', 's3']:\n",
    "    eu_agg_dec_post = agg_5_dict.get('EU').get(subqid)[0]\n",
    "    eu_agg_dec_pre = agg_5_dict.get('EU').get(subqid)[1]\n",
    "    g_agg_dec_post = agg_5_dict.get('Global').get(subqid)[0]\n",
    "    g_agg_dec_pre = agg_5_dict.get('Global').get(subqid)[1]\n",
    "    agg_6_dict[subqid]['pre'] = np.array([eu_agg_dec_pre, g_agg_dec_pre])\n",
    "    agg_6_dict[subqid]['post'] = np.array([eu_agg_dec_post, g_agg_dec_post])\n",
    "    continue\n",
    "pprint.pprint(agg_6_dict)"
   ]
  },
  {
   "cell_type": "code",
   "execution_count": 277,
   "metadata": {},
   "outputs": [],
   "source": [
    "chi_tests = {\n",
    "    's1':{},\n",
    "    's2':{},\n",
    "    's3':{},\n",
    "}\n",
    "for subqid in agg_6_dict:\n",
    "    for period in agg_6_dict.get(subqid):\n",
    "        chi_tests[subqid][period] = chi2_contingency(observed=agg_6_dict.get(subqid).get(period))"
   ]
  },
  {
   "cell_type": "code",
   "execution_count": 278,
   "metadata": {},
   "outputs": [
    {
     "name": "stdout",
     "output_type": "stream",
     "text": [
      "{'s1': {'post': (7.161060717887675,\n",
      "                 0.007450312626715736,\n",
      "                 1,\n",
      "                 array([[333.37647059, 526.62352941],\n",
      "       [325.62352941, 514.37647059]])),\n",
      "        'pre': (2.016345663303952,\n",
      "                0.1556132512183144,\n",
      "                1,\n",
      "                array([[369.08954362, 504.91045638],\n",
      "       [361.91045638, 495.08954362]]))},\n",
      " 's2': {'post': (6.088212225921172,\n",
      "                 0.013608671688541395,\n",
      "                 1,\n",
      "                 array([[250.82959641, 653.17040359],\n",
      "       [244.17040359, 635.82959641]])),\n",
      "        'pre': (1.197056065432094,\n",
      "                0.27391087084904886,\n",
      "                1,\n",
      "                array([[281.18516453, 633.81483547],\n",
      "       [269.81483547, 608.18516453]]))},\n",
      " 's3': {'post': (15.322477008975383,\n",
      "                 9.063170337355346e-05,\n",
      "                 1,\n",
      "                 array([[313.9461589, 466.0538411],\n",
      "       [299.0538411, 443.9461589]])),\n",
      "        'pre': (3.1751516100386383,\n",
      "                0.07476627281787453,\n",
      "                1,\n",
      "                array([[340.02776025, 461.97223975],\n",
      "       [331.97223975, 451.02776025]]))}}\n"
     ]
    }
   ],
   "source": [
    "pprint.pprint(chi_tests)"
   ]
  },
  {
   "cell_type": "code",
   "execution_count": null,
   "metadata": {},
   "outputs": [],
   "source": []
  }
 ],
 "metadata": {
  "kernelspec": {
   "display_name": "Python 3",
   "language": "python",
   "name": "python3"
  },
  "language_info": {
   "codemirror_mode": {
    "name": "ipython",
    "version": 3
   },
   "file_extension": ".py",
   "mimetype": "text/x-python",
   "name": "python",
   "nbconvert_exporter": "python",
   "pygments_lexer": "ipython3",
   "version": "3.6.5"
  }
 },
 "nbformat": 4,
 "nbformat_minor": 2
}
