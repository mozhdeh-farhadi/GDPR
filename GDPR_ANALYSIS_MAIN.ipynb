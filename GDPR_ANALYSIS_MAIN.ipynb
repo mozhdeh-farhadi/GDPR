{
 "cells": [
  {
   "cell_type": "markdown",
   "metadata": {},
   "source": [
    "# GDPR Analysis Main Notebook \n",
    "\n",
    "**Goal** \n",
    "The goal of this notebook is to demonstrate usage of this codebase as well as ultimately assembling the main \"dataframe\" of this study. "
   ]
  },
  {
   "cell_type": "code",
   "execution_count": 1,
   "metadata": {},
   "outputs": [],
   "source": [
    "import pandas as pd\n",
    "from pathlib import Path\n",
    "from scipy import stats \n",
    "import json\n",
    "from scipy.stats import chi2_contingency\n",
    "import seaborn as sns\n",
    "import matplotlib.pyplot as plt\n",
    "import numpy as np\n",
    "%matplotlib inline"
   ]
  },
  {
   "cell_type": "markdown",
   "metadata": {},
   "source": [
    "> A **note** about the code: The data for this study is partitioned into two sets, _EU_ and _Global_, based on the location of the domain. Most of the analysis is done by sequentially applying a process to each set before moving on, and the code will reflect as much. "
   ]
  },
  {
   "cell_type": "code",
   "execution_count": 2,
   "metadata": {},
   "outputs": [],
   "source": [
    "eu_df = pd.read_csv('./eu_dataframe.csv')\n",
    "g_df = pd.read_csv('./global_dataframe.csv')"
   ]
  },
  {
   "cell_type": "code",
   "execution_count": 3,
   "metadata": {},
   "outputs": [],
   "source": [
    "eu_dict = {}\n",
    "for i in eu_df.itertuples():\n",
    "    eu_dict[i.pid] = {'pid': i.pid, 'pre_ts':i.pre_ts, 'post_ts':i.post_ts}\n",
    "    continue"
   ]
  },
  {
   "cell_type": "code",
   "execution_count": 4,
   "metadata": {},
   "outputs": [],
   "source": [
    "g_dict = {}\n",
    "for i in g_df.itertuples():\n",
    "    g_dict[i.pid] = {'pid': i.pid, 'pre_ts':i.pre_ts, 'post_ts':i.post_ts}\n",
    "    continue"
   ]
  },
  {
   "cell_type": "markdown",
   "metadata": {},
   "source": [
    "## Raw HTML"
   ]
  },
  {
   "cell_type": "markdown",
   "metadata": {},
   "source": [
    "**EU**"
   ]
  },
  {
   "cell_type": "code",
   "execution_count": 5,
   "metadata": {
    "jupyter": {
     "source_hidden": true
    }
   },
   "outputs": [],
   "source": [
    "eu_html_dir = Path('./raw_html/EU/')\n",
    "for path in eu_html_dir.iterdir(): \n",
    "    if not path.is_dir(): continue \n",
    "    try: \n",
    "        pid = int(str(path).split('/')[-1])\n",
    "        if eu_dict.get(pid) is not None: eu_dict[pid]['raw_html_dir'] = str(path)\n",
    "    except: \n",
    "        continue\n",
    "    continue "
   ]
  },
  {
   "cell_type": "markdown",
   "metadata": {},
   "source": [
    "**Global**"
   ]
  },
  {
   "cell_type": "code",
   "execution_count": 6,
   "metadata": {
    "jupyter": {
     "source_hidden": true
    }
   },
   "outputs": [],
   "source": [
    "g_html_dir = Path('./raw_html/Global/')\n",
    "for path in g_html_dir.iterdir(): \n",
    "    if not path.is_dir(): continue \n",
    "    try: \n",
    "        pid = int(str(path).split('/')[-1])\n",
    "        if g_dict.get(pid) is not None: g_dict[pid]['raw_html_dir'] = str(path)\n",
    "    except: \n",
    "        continue\n",
    "    continue "
   ]
  },
  {
   "cell_type": "markdown",
   "metadata": {},
   "source": [
    "## Text Data"
   ]
  },
  {
   "cell_type": "markdown",
   "metadata": {},
   "source": [
    "**EU**"
   ]
  },
  {
   "cell_type": "code",
   "execution_count": 7,
   "metadata": {
    "jupyter": {
     "source_hidden": true
    }
   },
   "outputs": [],
   "source": [
    "eu_text_dir = Path('./text_data/EU/')\n",
    "for path in eu_text_dir.iterdir(): \n",
    "    if not path.is_dir(): continue \n",
    "    try: \n",
    "        pid = int(str(path).split('/')[-1])\n",
    "        if eu_dict.get(pid) is not None: eu_dict[pid]['text_dir'] = str(path)\n",
    "    except: \n",
    "        continue\n",
    "    continue "
   ]
  },
  {
   "cell_type": "markdown",
   "metadata": {},
   "source": [
    "**Global**"
   ]
  },
  {
   "cell_type": "code",
   "execution_count": 8,
   "metadata": {
    "jupyter": {
     "source_hidden": true
    }
   },
   "outputs": [],
   "source": [
    "g_text_dir = Path('./text_data/Global/')\n",
    "for path in g_text_dir.iterdir(): \n",
    "    if not path.is_dir(): continue \n",
    "    try: \n",
    "        pid = int(str(path).split('/')[-1])\n",
    "        if g_dict.get(pid) is not None: g_dict[pid]['text_dir'] = str(path)\n",
    "    except: \n",
    "        continue\n",
    "    continue "
   ]
  },
  {
   "cell_type": "markdown",
   "metadata": {},
   "source": [
    "## Polisis Outputs"
   ]
  },
  {
   "cell_type": "markdown",
   "metadata": {},
   "source": [
    "**EU**"
   ]
  },
  {
   "cell_type": "code",
   "execution_count": 9,
   "metadata": {
    "jupyter": {
     "source_hidden": true
    }
   },
   "outputs": [],
   "source": [
    "eu_polisis_pre_dir = Path('./polisis_outputs/EU/pre_data/')\n",
    "for f in eu_polisis_pre_dir.iterdir(): \n",
    "    if not str(f).endswith('.json'): continue\n",
    "    try: \n",
    "        pid = int(str(f).split('/')[-1].replace('.json', ''))\n",
    "        if eu_dict.get(pid) is not None: eu_dict[pid]['pre_polisis_output'] = str(f)\n",
    "    except:\n",
    "        continue\n",
    "    continue"
   ]
  },
  {
   "cell_type": "code",
   "execution_count": 10,
   "metadata": {
    "jupyter": {
     "source_hidden": true
    }
   },
   "outputs": [],
   "source": [
    "eu_polisis_post_dir = Path('./polisis_outputs/EU/post_data/')\n",
    "for f in eu_polisis_post_dir.iterdir(): \n",
    "    if not str(f).endswith('.json'): continue\n",
    "    try: \n",
    "        pid = int(str(f).split('/')[-1].replace('.json', ''))\n",
    "        if eu_dict.get(pid) is not None: eu_dict[pid]['post_polisis_output'] = str(f)\n",
    "    except:\n",
    "        continue\n",
    "    continue"
   ]
  },
  {
   "cell_type": "markdown",
   "metadata": {},
   "source": [
    "**Global**"
   ]
  },
  {
   "cell_type": "code",
   "execution_count": 11,
   "metadata": {
    "jupyter": {
     "source_hidden": true
    }
   },
   "outputs": [],
   "source": [
    "g_polisis_pre_dir = Path('./polisis_outputs/Global/pre_data/')\n",
    "for f in g_polisis_pre_dir.iterdir(): \n",
    "    if not str(f).endswith('.json'): continue\n",
    "    try: \n",
    "        pid = int(str(f).split('/')[-1].replace('.json', ''))\n",
    "        if g_dict.get(pid) is not None: g_dict[pid]['pre_polisis_output'] = str(f)\n",
    "    except:\n",
    "        continue\n",
    "    continue"
   ]
  },
  {
   "cell_type": "code",
   "execution_count": 12,
   "metadata": {
    "jupyter": {
     "source_hidden": true
    }
   },
   "outputs": [],
   "source": [
    "g_polisis_post_dir = Path('./polisis_outputs/Global/post_data/')\n",
    "for f in g_polisis_post_dir.iterdir(): \n",
    "    if not str(f).endswith('.json'): continue\n",
    "    try: \n",
    "        pid = int(str(f).split('/')[-1].replace('.json', ''))\n",
    "        if g_dict.get(pid) is not None: g_dict[pid]['post_polisis_output'] = str(f)\n",
    "    except:\n",
    "        continue\n",
    "    continue"
   ]
  },
  {
   "cell_type": "markdown",
   "metadata": {},
   "source": [
    "## Text Feature Analysis"
   ]
  },
  {
   "cell_type": "markdown",
   "metadata": {},
   "source": [
    "**Methods**"
   ]
  },
  {
   "cell_type": "code",
   "execution_count": 71,
   "metadata": {
    "jupyter": {
     "source_hidden": true
    }
   },
   "outputs": [],
   "source": [
    "from utils.passive_voice_index import PassiveVoice\n",
    "import textstat"
   ]
  },
  {
   "cell_type": "code",
   "execution_count": 50,
   "metadata": {
    "jupyter": {
     "source_hidden": true
    }
   },
   "outputs": [],
   "source": [
    "pv = PassiveVoice()"
   ]
  },
  {
   "cell_type": "code",
   "execution_count": 70,
   "metadata": {
    "jupyter": {
     "source_hidden": true
    }
   },
   "outputs": [],
   "source": [
    "def calculate_readability_scores(path, pv):\n",
    "    txt = ''\n",
    "    with open(path) as fi: \n",
    "        txt = fi.read()\n",
    "    local = {}\n",
    "    try:\n",
    "        local['syllables'] = textstat.syllable_count(txt)\n",
    "    except:\n",
    "        local['syllables'] = 0\n",
    "    try:\n",
    "        local['words'] = textstat.lexicon_count(txt, True)\n",
    "    except:\n",
    "        local['words'] = 0\n",
    "    try:\n",
    "        local['sentences'] = textstat.sentence_count(txt)\n",
    "    except:\n",
    "        local['sentences'] = 0    \n",
    "    if local.get('words') > 0: \n",
    "        local['syllables_per_word'] = local.get('syllables') / local.get('words')\n",
    "    else: \n",
    "        local['syllables_per_word'] = 0\n",
    "    if local.get('sentences') > 0: \n",
    "        local['words_per_sentence'] = local.get('words') / local.get('sentences')\n",
    "    else: \n",
    "        local['words_per_sentence'] = 0\n",
    "    try: \n",
    "        local['passive_voice'] = pv.index(txt)[0]\n",
    "    except: \n",
    "        local['passive_voice'] = 'NA'\n",
    "    return local"
   ]
  },
  {
   "cell_type": "code",
   "execution_count": null,
   "metadata": {
    "jupyter": {
     "source_hidden": true
    },
    "scrolled": true
   },
   "outputs": [],
   "source": [
    "eu_pre_scores_dict = {}\n",
    "eu_post_scores_dict = {}\n",
    "for obj in eu_dict.values():\n",
    "    try: \n",
    "        pre_txt_fname = obj.get('text_dir') + '/%s.txt' % str(obj.get('pre_ts'))\n",
    "        eu_pre_scores_dict[obj.get('pid')] = calculate_readability_scores(pre_txt_fname, pv)\n",
    "        post_txt_fname = obj.get('text_dir') + '/%s.txt' % str(obj.get('post_ts'))\n",
    "        eu_post_scores_dict[obj.get('pid')] = calculate_readability_scores(post_txt_fname, pv)\n",
    "    except Exception as e: \n",
    "        continue\n",
    "    continue"
   ]
  },
  {
   "cell_type": "code",
   "execution_count": null,
   "metadata": {
    "jupyter": {
     "source_hidden": true
    },
    "scrolled": true
   },
   "outputs": [],
   "source": [
    "g_pre_scores_dict = {}\n",
    "g_post_scores_dict = {}\n",
    "for obj in g_dict.values():\n",
    "    try: \n",
    "        pre_txt_fname = obj.get('text_dir') + '/%s.txt' % str(obj.get('pre_ts'))\n",
    "        g_pre_scores_dict[obj.get('pid')] = calculate_readability_scores(pre_txt_fname, pv)\n",
    "        post_txt_fname = obj.get('text_dir') + '/%s.txt' % str(obj.get('post_ts'))\n",
    "        g_post_scores_dict[obj.get('pid')] = calculate_readability_scores(post_txt_fname, pv)\n",
    "    except Exception as e: \n",
    "        print(e)\n",
    "        continue\n",
    "    continue"
   ]
  },
  {
   "cell_type": "code",
   "execution_count": 99,
   "metadata": {
    "jupyter": {
     "source_hidden": true
    }
   },
   "outputs": [],
   "source": [
    "eu_score_datarows = []\n",
    "for pid in eu_post_scores_dict:\n",
    "    pre_data = eu_pre_scores_dict.get(pid)\n",
    "    post_data = eu_post_scores_dict.get(pid)\n",
    "    local_object = {'pid':pid}\n",
    "    for i in eu_pre_scores_dict[pid].items(): local_object['pre_' + i[0]] = i[1]\n",
    "    for i in eu_post_scores_dict[pid].items(): local_object['post_' + i[0]] = i[1]\n",
    "    eu_score_datarows.append(local_object)\n",
    "    continue"
   ]
  },
  {
   "cell_type": "code",
   "execution_count": 100,
   "metadata": {
    "jupyter": {
     "source_hidden": true
    }
   },
   "outputs": [],
   "source": [
    "g_score_datarows = []\n",
    "for pid in g_post_scores_dict:\n",
    "    pre_data = g_pre_scores_dict.get(pid)\n",
    "    post_data = g_post_scores_dict.get(pid)\n",
    "    local_object = {'pid':pid}\n",
    "    for i in g_pre_scores_dict[pid].items(): local_object['pre_' + i[0]] = i[1]\n",
    "    for i in g_post_scores_dict[pid].items(): local_object['post_' + i[0]] = i[1]\n",
    "    g_score_datarows.append(local_object)\n",
    "    continue"
   ]
  },
  {
   "cell_type": "code",
   "execution_count": 102,
   "metadata": {
    "jupyter": {
     "source_hidden": true
    }
   },
   "outputs": [],
   "source": [
    "eu_score_df = pd.DataFrame.from_dict(eu_score_datarows)\n",
    "g_score_df = pd.DataFrame.from_dict(g_score_datarows)"
   ]
  },
  {
   "cell_type": "code",
   "execution_count": 103,
   "metadata": {
    "jupyter": {
     "source_hidden": true
    }
   },
   "outputs": [],
   "source": [
    "metrics = [\n",
    " 'syllables',\n",
    " 'words',\n",
    " 'sentences',\n",
    " 'syllables_per_word',\n",
    " 'words_per_sentence',\n",
    " 'passive_voice'\n",
    "]"
   ]
  },
  {
   "cell_type": "markdown",
   "metadata": {},
   "source": [
    "**EU Text Features**"
   ]
  },
  {
   "cell_type": "code",
   "execution_count": 104,
   "metadata": {
    "jupyter": {
     "source_hidden": true
    }
   },
   "outputs": [
    {
     "data": {
      "text/html": [
       "<div>\n",
       "<style scoped>\n",
       "    .dataframe tbody tr th:only-of-type {\n",
       "        vertical-align: middle;\n",
       "    }\n",
       "\n",
       "    .dataframe tbody tr th {\n",
       "        vertical-align: top;\n",
       "    }\n",
       "\n",
       "    .dataframe thead th {\n",
       "        text-align: right;\n",
       "    }\n",
       "</style>\n",
       "<table border=\"1\" class=\"dataframe\">\n",
       "  <thead>\n",
       "    <tr style=\"text-align: right;\">\n",
       "      <th></th>\n",
       "      <th>pre_syllables</th>\n",
       "      <th>post_syllables</th>\n",
       "      <th>pre_words</th>\n",
       "      <th>post_words</th>\n",
       "      <th>pre_sentences</th>\n",
       "      <th>post_sentences</th>\n",
       "      <th>pre_syllables_per_word</th>\n",
       "      <th>post_syllables_per_word</th>\n",
       "      <th>pre_words_per_sentence</th>\n",
       "      <th>post_words_per_sentence</th>\n",
       "      <th>pre_passive_voice</th>\n",
       "      <th>post_passive_voice</th>\n",
       "    </tr>\n",
       "  </thead>\n",
       "  <tbody>\n",
       "    <tr>\n",
       "      <th>count</th>\n",
       "      <td>3084.000000</td>\n",
       "      <td>3084.000000</td>\n",
       "      <td>3084.000000</td>\n",
       "      <td>3084.000000</td>\n",
       "      <td>3084.000000</td>\n",
       "      <td>3084.000000</td>\n",
       "      <td>3084.000000</td>\n",
       "      <td>3084.000000</td>\n",
       "      <td>3084.000000</td>\n",
       "      <td>3084.000000</td>\n",
       "      <td>3084.000000</td>\n",
       "      <td>3084.000000</td>\n",
       "    </tr>\n",
       "    <tr>\n",
       "      <th>mean</th>\n",
       "      <td>3534.181582</td>\n",
       "      <td>4670.449092</td>\n",
       "      <td>1936.149805</td>\n",
       "      <td>2621.377108</td>\n",
       "      <td>53.486381</td>\n",
       "      <td>71.359598</td>\n",
       "      <td>1.929158</td>\n",
       "      <td>2.026662</td>\n",
       "      <td>53.226440</td>\n",
       "      <td>50.469536</td>\n",
       "      <td>10.753740</td>\n",
       "      <td>10.904579</td>\n",
       "    </tr>\n",
       "    <tr>\n",
       "      <th>std</th>\n",
       "      <td>4580.424208</td>\n",
       "      <td>5291.801500</td>\n",
       "      <td>2010.286743</td>\n",
       "      <td>2564.926608</td>\n",
       "      <td>53.346876</td>\n",
       "      <td>69.624232</td>\n",
       "      <td>1.755271</td>\n",
       "      <td>3.555588</td>\n",
       "      <td>121.101458</td>\n",
       "      <td>144.456981</td>\n",
       "      <td>7.345840</td>\n",
       "      <td>6.887263</td>\n",
       "    </tr>\n",
       "    <tr>\n",
       "      <th>min</th>\n",
       "      <td>1.000000</td>\n",
       "      <td>1.000000</td>\n",
       "      <td>0.000000</td>\n",
       "      <td>0.000000</td>\n",
       "      <td>1.000000</td>\n",
       "      <td>1.000000</td>\n",
       "      <td>0.000000</td>\n",
       "      <td>0.000000</td>\n",
       "      <td>0.000000</td>\n",
       "      <td>0.000000</td>\n",
       "      <td>0.000000</td>\n",
       "      <td>0.000000</td>\n",
       "    </tr>\n",
       "    <tr>\n",
       "      <th>25%</th>\n",
       "      <td>1232.500000</td>\n",
       "      <td>1584.000000</td>\n",
       "      <td>706.000000</td>\n",
       "      <td>889.000000</td>\n",
       "      <td>19.000000</td>\n",
       "      <td>25.000000</td>\n",
       "      <td>1.603804</td>\n",
       "      <td>1.607932</td>\n",
       "      <td>26.944754</td>\n",
       "      <td>27.941289</td>\n",
       "      <td>5.882353</td>\n",
       "      <td>6.666667</td>\n",
       "    </tr>\n",
       "    <tr>\n",
       "      <th>50%</th>\n",
       "      <td>2330.000000</td>\n",
       "      <td>3526.000000</td>\n",
       "      <td>1324.000000</td>\n",
       "      <td>1999.000000</td>\n",
       "      <td>38.000000</td>\n",
       "      <td>53.000000</td>\n",
       "      <td>1.657175</td>\n",
       "      <td>1.661128</td>\n",
       "      <td>33.162714</td>\n",
       "      <td>34.735348</td>\n",
       "      <td>10.000000</td>\n",
       "      <td>10.236220</td>\n",
       "    </tr>\n",
       "    <tr>\n",
       "      <th>75%</th>\n",
       "      <td>4408.250000</td>\n",
       "      <td>6288.500000</td>\n",
       "      <td>2542.750000</td>\n",
       "      <td>3616.250000</td>\n",
       "      <td>71.000000</td>\n",
       "      <td>95.000000</td>\n",
       "      <td>1.727761</td>\n",
       "      <td>1.726769</td>\n",
       "      <td>43.989247</td>\n",
       "      <td>45.195402</td>\n",
       "      <td>14.625518</td>\n",
       "      <td>14.400000</td>\n",
       "    </tr>\n",
       "    <tr>\n",
       "      <th>max</th>\n",
       "      <td>102757.000000</td>\n",
       "      <td>108023.000000</td>\n",
       "      <td>39244.000000</td>\n",
       "      <td>41834.000000</td>\n",
       "      <td>843.000000</td>\n",
       "      <td>1020.000000</td>\n",
       "      <td>67.071217</td>\n",
       "      <td>103.511111</td>\n",
       "      <td>2287.000000</td>\n",
       "      <td>7174.000000</td>\n",
       "      <td>71.428571</td>\n",
       "      <td>71.428571</td>\n",
       "    </tr>\n",
       "  </tbody>\n",
       "</table>\n",
       "</div>"
      ],
      "text/plain": [
       "       pre_syllables  post_syllables     pre_words    post_words  \\\n",
       "count    3084.000000     3084.000000   3084.000000   3084.000000   \n",
       "mean     3534.181582     4670.449092   1936.149805   2621.377108   \n",
       "std      4580.424208     5291.801500   2010.286743   2564.926608   \n",
       "min         1.000000        1.000000      0.000000      0.000000   \n",
       "25%      1232.500000     1584.000000    706.000000    889.000000   \n",
       "50%      2330.000000     3526.000000   1324.000000   1999.000000   \n",
       "75%      4408.250000     6288.500000   2542.750000   3616.250000   \n",
       "max    102757.000000   108023.000000  39244.000000  41834.000000   \n",
       "\n",
       "       pre_sentences  post_sentences  pre_syllables_per_word  \\\n",
       "count    3084.000000     3084.000000             3084.000000   \n",
       "mean       53.486381       71.359598                1.929158   \n",
       "std        53.346876       69.624232                1.755271   \n",
       "min         1.000000        1.000000                0.000000   \n",
       "25%        19.000000       25.000000                1.603804   \n",
       "50%        38.000000       53.000000                1.657175   \n",
       "75%        71.000000       95.000000                1.727761   \n",
       "max       843.000000     1020.000000               67.071217   \n",
       "\n",
       "       post_syllables_per_word  pre_words_per_sentence  \\\n",
       "count              3084.000000             3084.000000   \n",
       "mean                  2.026662               53.226440   \n",
       "std                   3.555588              121.101458   \n",
       "min                   0.000000                0.000000   \n",
       "25%                   1.607932               26.944754   \n",
       "50%                   1.661128               33.162714   \n",
       "75%                   1.726769               43.989247   \n",
       "max                 103.511111             2287.000000   \n",
       "\n",
       "       post_words_per_sentence  pre_passive_voice  post_passive_voice  \n",
       "count              3084.000000        3084.000000         3084.000000  \n",
       "mean                 50.469536          10.753740           10.904579  \n",
       "std                 144.456981           7.345840            6.887263  \n",
       "min                   0.000000           0.000000            0.000000  \n",
       "25%                  27.941289           5.882353            6.666667  \n",
       "50%                  34.735348          10.000000           10.236220  \n",
       "75%                  45.195402          14.625518           14.400000  \n",
       "max                7174.000000          71.428571           71.428571  "
      ]
     },
     "execution_count": 104,
     "metadata": {},
     "output_type": "execute_result"
    }
   ],
   "source": [
    "eu_agg_df = eu_score_df[['pre_' + metrics[0], 'post_' + metrics[0]]].describe() \n",
    "for m in metrics[1:]: \n",
    "    new_df = eu_score_df[['pre_' + m, 'post_' + m]].describe() \n",
    "    eu_agg_df = pd.concat([eu_agg_df, new_df], sort=False, axis=1)\n",
    "eu_agg_df"
   ]
  },
  {
   "cell_type": "markdown",
   "metadata": {},
   "source": [
    "**Global Text Features**"
   ]
  },
  {
   "cell_type": "code",
   "execution_count": 105,
   "metadata": {
    "jupyter": {
     "source_hidden": true
    }
   },
   "outputs": [
    {
     "data": {
      "text/html": [
       "<div>\n",
       "<style scoped>\n",
       "    .dataframe tbody tr th:only-of-type {\n",
       "        vertical-align: middle;\n",
       "    }\n",
       "\n",
       "    .dataframe tbody tr th {\n",
       "        vertical-align: top;\n",
       "    }\n",
       "\n",
       "    .dataframe thead th {\n",
       "        text-align: right;\n",
       "    }\n",
       "</style>\n",
       "<table border=\"1\" class=\"dataframe\">\n",
       "  <thead>\n",
       "    <tr style=\"text-align: right;\">\n",
       "      <th></th>\n",
       "      <th>pre_syllables</th>\n",
       "      <th>post_syllables</th>\n",
       "      <th>pre_words</th>\n",
       "      <th>post_words</th>\n",
       "      <th>pre_sentences</th>\n",
       "      <th>post_sentences</th>\n",
       "      <th>pre_syllables_per_word</th>\n",
       "      <th>post_syllables_per_word</th>\n",
       "      <th>pre_words_per_sentence</th>\n",
       "      <th>post_words_per_sentence</th>\n",
       "      <th>pre_passive_voice</th>\n",
       "      <th>post_passive_voice</th>\n",
       "    </tr>\n",
       "  </thead>\n",
       "  <tbody>\n",
       "    <tr>\n",
       "      <th>count</th>\n",
       "      <td>3592.000000</td>\n",
       "      <td>3592.00000</td>\n",
       "      <td>3592.000000</td>\n",
       "      <td>3592.000000</td>\n",
       "      <td>3592.000000</td>\n",
       "      <td>3592.000000</td>\n",
       "      <td>3592.000000</td>\n",
       "      <td>3592.000000</td>\n",
       "      <td>3592.000000</td>\n",
       "      <td>3592.000000</td>\n",
       "      <td>3592.000000</td>\n",
       "      <td>3592.000000</td>\n",
       "    </tr>\n",
       "    <tr>\n",
       "      <th>mean</th>\n",
       "      <td>2977.430122</td>\n",
       "      <td>4108.18402</td>\n",
       "      <td>1709.454900</td>\n",
       "      <td>2140.436247</td>\n",
       "      <td>48.041203</td>\n",
       "      <td>58.614978</td>\n",
       "      <td>1.794858</td>\n",
       "      <td>1.855023</td>\n",
       "      <td>42.469968</td>\n",
       "      <td>43.758953</td>\n",
       "      <td>11.446691</td>\n",
       "      <td>11.522678</td>\n",
       "    </tr>\n",
       "    <tr>\n",
       "      <th>std</th>\n",
       "      <td>2941.519371</td>\n",
       "      <td>6606.60555</td>\n",
       "      <td>1609.232339</td>\n",
       "      <td>2167.402394</td>\n",
       "      <td>42.023663</td>\n",
       "      <td>54.423964</td>\n",
       "      <td>0.697352</td>\n",
       "      <td>1.123994</td>\n",
       "      <td>47.606868</td>\n",
       "      <td>54.506922</td>\n",
       "      <td>7.206845</td>\n",
       "      <td>6.987788</td>\n",
       "    </tr>\n",
       "    <tr>\n",
       "      <th>min</th>\n",
       "      <td>11.000000</td>\n",
       "      <td>21.00000</td>\n",
       "      <td>7.000000</td>\n",
       "      <td>11.000000</td>\n",
       "      <td>1.000000</td>\n",
       "      <td>1.000000</td>\n",
       "      <td>1.136466</td>\n",
       "      <td>1.352632</td>\n",
       "      <td>6.750000</td>\n",
       "      <td>8.000000</td>\n",
       "      <td>0.000000</td>\n",
       "      <td>0.000000</td>\n",
       "    </tr>\n",
       "    <tr>\n",
       "      <th>25%</th>\n",
       "      <td>1134.000000</td>\n",
       "      <td>1358.50000</td>\n",
       "      <td>646.750000</td>\n",
       "      <td>783.750000</td>\n",
       "      <td>19.000000</td>\n",
       "      <td>22.000000</td>\n",
       "      <td>1.622471</td>\n",
       "      <td>1.624216</td>\n",
       "      <td>26.452434</td>\n",
       "      <td>27.271447</td>\n",
       "      <td>7.135799</td>\n",
       "      <td>7.279347</td>\n",
       "    </tr>\n",
       "    <tr>\n",
       "      <th>50%</th>\n",
       "      <td>2158.500000</td>\n",
       "      <td>2687.50000</td>\n",
       "      <td>1240.000000</td>\n",
       "      <td>1566.000000</td>\n",
       "      <td>36.000000</td>\n",
       "      <td>44.000000</td>\n",
       "      <td>1.673433</td>\n",
       "      <td>1.671480</td>\n",
       "      <td>32.714286</td>\n",
       "      <td>33.813657</td>\n",
       "      <td>10.653313</td>\n",
       "      <td>10.544848</td>\n",
       "    </tr>\n",
       "    <tr>\n",
       "      <th>75%</th>\n",
       "      <td>3913.250000</td>\n",
       "      <td>5105.25000</td>\n",
       "      <td>2273.500000</td>\n",
       "      <td>2957.500000</td>\n",
       "      <td>67.000000</td>\n",
       "      <td>80.000000</td>\n",
       "      <td>1.739106</td>\n",
       "      <td>1.739150</td>\n",
       "      <td>43.837774</td>\n",
       "      <td>44.365119</td>\n",
       "      <td>14.864865</td>\n",
       "      <td>14.634146</td>\n",
       "    </tr>\n",
       "    <tr>\n",
       "      <th>max</th>\n",
       "      <td>66546.000000</td>\n",
       "      <td>122652.00000</td>\n",
       "      <td>19113.000000</td>\n",
       "      <td>54547.000000</td>\n",
       "      <td>411.000000</td>\n",
       "      <td>694.000000</td>\n",
       "      <td>21.565217</td>\n",
       "      <td>30.984582</td>\n",
       "      <td>1099.500000</td>\n",
       "      <td>1534.500000</td>\n",
       "      <td>75.000000</td>\n",
       "      <td>85.714286</td>\n",
       "    </tr>\n",
       "  </tbody>\n",
       "</table>\n",
       "</div>"
      ],
      "text/plain": [
       "       pre_syllables  post_syllables     pre_words    post_words  \\\n",
       "count    3592.000000      3592.00000   3592.000000   3592.000000   \n",
       "mean     2977.430122      4108.18402   1709.454900   2140.436247   \n",
       "std      2941.519371      6606.60555   1609.232339   2167.402394   \n",
       "min        11.000000        21.00000      7.000000     11.000000   \n",
       "25%      1134.000000      1358.50000    646.750000    783.750000   \n",
       "50%      2158.500000      2687.50000   1240.000000   1566.000000   \n",
       "75%      3913.250000      5105.25000   2273.500000   2957.500000   \n",
       "max     66546.000000    122652.00000  19113.000000  54547.000000   \n",
       "\n",
       "       pre_sentences  post_sentences  pre_syllables_per_word  \\\n",
       "count    3592.000000     3592.000000             3592.000000   \n",
       "mean       48.041203       58.614978                1.794858   \n",
       "std        42.023663       54.423964                0.697352   \n",
       "min         1.000000        1.000000                1.136466   \n",
       "25%        19.000000       22.000000                1.622471   \n",
       "50%        36.000000       44.000000                1.673433   \n",
       "75%        67.000000       80.000000                1.739106   \n",
       "max       411.000000      694.000000               21.565217   \n",
       "\n",
       "       post_syllables_per_word  pre_words_per_sentence  \\\n",
       "count              3592.000000             3592.000000   \n",
       "mean                  1.855023               42.469968   \n",
       "std                   1.123994               47.606868   \n",
       "min                   1.352632                6.750000   \n",
       "25%                   1.624216               26.452434   \n",
       "50%                   1.671480               32.714286   \n",
       "75%                   1.739150               43.837774   \n",
       "max                  30.984582             1099.500000   \n",
       "\n",
       "       post_words_per_sentence  pre_passive_voice  post_passive_voice  \n",
       "count              3592.000000        3592.000000         3592.000000  \n",
       "mean                 43.758953          11.446691           11.522678  \n",
       "std                  54.506922           7.206845            6.987788  \n",
       "min                   8.000000           0.000000            0.000000  \n",
       "25%                  27.271447           7.135799            7.279347  \n",
       "50%                  33.813657          10.653313           10.544848  \n",
       "75%                  44.365119          14.864865           14.634146  \n",
       "max                1534.500000          75.000000           85.714286  "
      ]
     },
     "execution_count": 105,
     "metadata": {},
     "output_type": "execute_result"
    }
   ],
   "source": [
    "g_agg_df = g_score_df[['pre_' + metrics[0], 'post_' + metrics[0]]].describe() \n",
    "for m in metrics[1:]: \n",
    "    new_df = g_score_df[['pre_' + m, 'post_' + m]].describe() \n",
    "    g_agg_df = pd.concat([g_agg_df, new_df], sort=False, axis=1)\n",
    "g_agg_df"
   ]
  },
  {
   "cell_type": "markdown",
   "metadata": {},
   "source": [
    "**EU Wilcoxon**"
   ]
  },
  {
   "cell_type": "code",
   "execution_count": 110,
   "metadata": {
    "jupyter": {
     "source_hidden": true
    }
   },
   "outputs": [],
   "source": [
    "eu_wilcoxon = [ {'metric':m, 'statistic':stats.wilcoxon(eu_score_df['pre_' + m], eu_score_df['post_' + m])[0],'p-val':stats.wilcoxon(eu_score_df['pre_' + m], eu_score_df['post_' + m])[1]}  for m in metrics]"
   ]
  },
  {
   "cell_type": "code",
   "execution_count": 111,
   "metadata": {
    "jupyter": {
     "source_hidden": true
    }
   },
   "outputs": [
    {
     "name": "stdout",
     "output_type": "stream",
     "text": [
      "               metric          p-val  statistic\n",
      "0           syllables  9.921149e-143   642189.5\n",
      "1               words  3.049676e-148   593218.0\n",
      "2           sentences  1.022212e-100   645923.5\n",
      "3  syllables_per_word   4.650077e-02  1499728.0\n",
      "4  words_per_sentence   2.838805e-06  1362141.5\n",
      "5       passive_voice   1.847760e-01  1346780.5\n"
     ]
    }
   ],
   "source": [
    "eu_wil_df = pd.DataFrame.from_dict(eu_wilcoxon)\n",
    "print(eu_wil_df)"
   ]
  },
  {
   "cell_type": "markdown",
   "metadata": {},
   "source": [
    "**Global Wilcoxon**"
   ]
  },
  {
   "cell_type": "code",
   "execution_count": 112,
   "metadata": {
    "jupyter": {
     "source_hidden": true
    }
   },
   "outputs": [],
   "source": [
    "g_wilcoxon = [ {'metric':m, 'statistic':stats.wilcoxon(g_score_df['pre_' + m], g_score_df['post_' + m])[0],'p-val':stats.wilcoxon(g_score_df['pre_' + m], g_score_df['post_' + m])[1]}  for m in metrics]"
   ]
  },
  {
   "cell_type": "code",
   "execution_count": 113,
   "metadata": {
    "jupyter": {
     "source_hidden": true
    }
   },
   "outputs": [
    {
     "name": "stdout",
     "output_type": "stream",
     "text": [
      "               metric          p-val  statistic\n",
      "0           syllables  6.360880e-136   617149.0\n",
      "1               words  6.162516e-141   557550.0\n",
      "2           sentences   1.517335e-86   627283.5\n",
      "3  syllables_per_word   9.708243e-01  1490177.0\n",
      "4  words_per_sentence   4.140274e-04  1318467.5\n",
      "5       passive_voice   4.291924e-01  1335580.0\n"
     ]
    }
   ],
   "source": [
    "g_wil_df = pd.DataFrame.from_dict(g_wilcoxon)\n",
    "print(g_wil_df)"
   ]
  },
  {
   "cell_type": "markdown",
   "metadata": {},
   "source": [
    "## Query Analyses"
   ]
  },
  {
   "cell_type": "markdown",
   "metadata": {},
   "source": [
    "The query data is organized in the following structure: \n",
    "```\n",
    "/queries\n",
    "    /coverage > /location.json > pid > source: [strings] \n",
    "    /compliance > /location.json > pid > query > source: {count: int}\n",
    "    /specificity > /location.json > pid > query > source: {S: int, S_a: int}\n",
    "```"
   ]
  },
  {
   "cell_type": "markdown",
   "metadata": {},
   "source": [
    "### Coverage Analysis"
   ]
  },
  {
   "cell_type": "code",
   "execution_count": 147,
   "metadata": {
    "jupyter": {
     "source_hidden": true
    }
   },
   "outputs": [],
   "source": [
    "all_categories = [\n",
    "    'policy_change', 'first_party_collection_use', 'user_choice_control', 'international_and_specific_audiences',\n",
    "     'user_access_edit_and_deletion', 'data_retention', 'data_security', 'privacy_contact_information',\n",
    "     'third_party_sharing_collection']"
   ]
  },
  {
   "cell_type": "markdown",
   "metadata": {},
   "source": [
    "**EU**"
   ]
  },
  {
   "cell_type": "code",
   "execution_count": 152,
   "metadata": {
    "jupyter": {
     "source_hidden": true
    }
   },
   "outputs": [
    {
     "data": {
      "image/png": "[encoded data removed]",
      "text/plain": [
       "<Figure size 720x360 with 1 Axes>"
      ]
     },
     "metadata": {},
     "output_type": "display_data"
    }
   ],
   "source": [
    "eu_coverage_data = json.load(open('./polisis_queries/coverage/EU.json'))\n",
    "eu_coverage_by_category = {} # scoreboard\n",
    "for pid in eu_coverage_data:\n",
    "    for src in ['archive', 'current']: # a.k.a pre/post\n",
    "        for category in all_categories: \n",
    "            if eu_coverage_by_category.get(category) is None: eu_coverage_by_category[category] = {'archive': {'case':0, 'total':0}, 'current':{'case':0, 'total':0}}\n",
    "            if category in eu_coverage_data.get(pid).get(src): eu_coverage_by_category[category][src]['case'] += 1\n",
    "            eu_coverage_by_category[category][src]['total'] += 1\n",
    "\n",
    "            continue # categories\n",
    "        continue # src    \n",
    "    continue # pids \n",
    "    \n",
    "eu_coverage_lod = []\n",
    "for cat in eu_coverage_by_category:\n",
    "    pre_case = eu_coverage_by_category.get(cat).get('archive').get('case')\n",
    "    pre_total = eu_coverage_by_category.get(cat).get('archive').get('total')\n",
    "    pre_pct = 100*pre_case/pre_total\n",
    "    \n",
    "    post_case = eu_coverage_by_category.get(cat).get('current').get('case')\n",
    "    post_total = eu_coverage_by_category.get(cat).get('current').get('total')\n",
    "    post_pct = 100*post_case/post_total\n",
    "    \n",
    "    eu_coverage_lod.append({'category':cat, 'source':'archive', 'num_covered_per': pre_pct })\n",
    "    eu_coverage_lod.append({'category':cat, 'source':'current', 'num_covered_per': post_pct})\n",
    "    continue \n",
    "\n",
    "eu_coverage_df = pd.DataFrame.from_dict(eu_coverage_lod)\n",
    "eu_coverage_df = eu_coverage_df.groupby(['category', 'source'], sort=False).sum().reset_index()\n",
    "eu_coverage_df.sort_values(['category'], ascending=[True], inplace=True)\n",
    "eu_coverage_df.sort_values(['source'], ascending=[True], inplace=True)\n",
    "eu_coverage_df.sort_values(['category'], ascending=[True], inplace=True)\n",
    "eu_coverage_plot = sns.catplot(x=\"category\", y='num_covered_per', hue=\"source\", data=eu_coverage_df, kind=\"bar\", aspect=80 / 40, orient='v', ci=None, palette=['#bae4bc', '#43a2ca'], legend=False)"
   ]
  },
  {
   "cell_type": "markdown",
   "metadata": {},
   "source": [
    "**Global**"
   ]
  },
  {
   "cell_type": "code",
   "execution_count": 153,
   "metadata": {
    "jupyter": {
     "source_hidden": true
    }
   },
   "outputs": [
    {
     "data": {
      "image/png": "[encoded data removed]",
      "text/plain": [
       "<Figure size 720x360 with 1 Axes>"
      ]
     },
     "metadata": {},
     "output_type": "display_data"
    }
   ],
   "source": [
    "g_coverage_data = json.load(open('./polisis_queries/coverage/Global.json'))\n",
    "g_coverage_by_category = {} # scoreboard\n",
    "for pid in g_coverage_data:\n",
    "    for src in ['archive', 'current']: # a.k.a pre/post\n",
    "        for category in all_categories: \n",
    "            if g_coverage_by_category.get(category) is None: g_coverage_by_category[category] = {'archive': {'case':0, 'total':0}, 'current':{'case':0, 'total':0}}\n",
    "            if category in g_coverage_data.get(pid).get(src): g_coverage_by_category[category][src]['case'] += 1\n",
    "            g_coverage_by_category[category][src]['total'] += 1\n",
    "\n",
    "            continue # categories\n",
    "        continue # src    \n",
    "    continue # pids \n",
    "    \n",
    "g_coverage_lod = []\n",
    "for cat in g_coverage_by_category:\n",
    "    pre_case = g_coverage_by_category.get(cat).get('archive').get('case')\n",
    "    pre_total = g_coverage_by_category.get(cat).get('archive').get('total')\n",
    "    pre_pct = 100*pre_case/pre_total\n",
    "    \n",
    "    post_case = g_coverage_by_category.get(cat).get('current').get('case')\n",
    "    post_total = g_coverage_by_category.get(cat).get('current').get('total')\n",
    "    post_pct = 100*post_case/post_total\n",
    "    \n",
    "    g_coverage_lod.append({'category':cat, 'source':'archive', 'num_covered_per': pre_pct })\n",
    "    g_coverage_lod.append({'category':cat, 'source':'current', 'num_covered_per': post_pct})\n",
    "    continue \n",
    "\n",
    "g_coverage_df = pd.DataFrame.from_dict(g_coverage_lod)\n",
    "g_coverage_df = g_coverage_df.groupby(['category', 'source'], sort=False).sum().reset_index()\n",
    "g_coverage_df.sort_values(['category'], ascending=[True], inplace=True)\n",
    "g_coverage_df.sort_values(['source'], ascending=[True], inplace=True)\n",
    "g_coverage_df.sort_values(['category'], ascending=[True], inplace=True)\n",
    "g_coverage_plot = sns.catplot(x=\"category\", y='num_covered_per', hue=\"source\", data=g_coverage_df, kind=\"bar\", aspect=80 / 40, orient='v', ci=None, palette=['#bae4bc', '#43a2ca'], legend=False)"
   ]
  },
  {
   "cell_type": "markdown",
   "metadata": {},
   "source": [
    "### Compliance Analysis"
   ]
  },
  {
   "cell_type": "markdown",
   "metadata": {},
   "source": [
    "**EU**"
   ]
  },
  {
   "cell_type": "code",
   "execution_count": 30,
   "metadata": {
    "jupyter": {
     "source_hidden": true
    }
   },
   "outputs": [
    {
     "data": {
      "text/plain": [
       "<matplotlib.legend.Legend at 0x7f5c27ba60b8>"
      ]
     },
     "execution_count": 30,
     "metadata": {},
     "output_type": "execute_result"
    },
    {
     "data": {
      "image/png": "[encoded data removed]",
      "text/plain": [
       "<Figure size 432x288 with 1 Axes>"
      ]
     },
     "metadata": {},
     "output_type": "display_data"
    }
   ],
   "source": [
    "eu_compliance_data = json.load(open('./polisis_queries/compliance/EU.json'))\n",
    "\n",
    "eu_compliance_by_query = {}\n",
    "for pid in eu_compliance_data:\n",
    "    queryset = eu_compliance_data.get(pid).get('queries').get('rights')\n",
    "    for q in queryset:\n",
    "        if q == 'retention_period_of_personal_data': continue\n",
    "        # Init if needed\n",
    "        if eu_compliance_by_query.get(q) is None: eu_compliance_by_query[q] = {'fully':0, 'improved':0, 'never':0, 'worse':0}\n",
    "        # Set flags for compliance\n",
    "        is_pre_comp = queryset.get(q).get('archive').get('count') > 0\n",
    "        is_post_comp = queryset.get(q).get('current').get('count') > 0 \n",
    "        \n",
    "        # Compare pre v. post\n",
    "        result = (\n",
    "            'fully' if is_pre_comp and is_post_comp else \n",
    "            'improved' if is_post_comp and not is_pre_comp else \n",
    "            'worse' if is_pre_comp and not is_post_comp else \n",
    "            'never'\n",
    "        )\n",
    "        \n",
    "        # Update\n",
    "        eu_compliance_by_query[q][result] += 1\n",
    "        \n",
    "        \n",
    "        continue # queries\n",
    "    continue # pids\n",
    "\n",
    "eu_compliance_datarows = []\n",
    "for query in eu_compliance_by_query:\n",
    "    total = sum([eu_compliance_by_query.get(query).get(result) for result in ['fully', 'improved', 'worse', 'never']])\n",
    "    eu_compliance_datarows.append({\n",
    "        'query':query, \n",
    "        'fully':eu_compliance_by_query.get(query).get('fully')/total,\n",
    "        'improved':eu_compliance_by_query.get(query).get('improved')/total,\n",
    "        'worse':eu_compliance_by_query.get(query).get('worse')/total,\n",
    "        'never':eu_compliance_by_query.get(query).get('never')/total,\n",
    "    })\n",
    "    \n",
    "\n",
    "eu_compl_df = pd.DataFrame.from_dict(eu_compliance_datarows)\n",
    "eu_compl_df = eu_compl_df.groupby('query', sort=False).agg(['sum'])\n",
    "eu_plotter = eu_compl_df.div(eu_compl_df.sum(axis=1), axis=0).multiply(100)\n",
    "\n",
    "ax = eu_plotter.plot(kind='barh', stacked=True, colormap='tab20c', sort_columns=True)\n",
    "ax.spines['top'].set_visible(False)\n",
    "ax.spines['right'].set_visible(False)\n",
    "ax.set_ylabel('ICO Query ID')\n",
    "ax.set_xlabel('% Policies')\n",
    "legend_list = ['Fully','Improved', 'Never', 'Worse']\n",
    "plt.legend(legend_list, loc='upper center', bbox_to_anchor=(0.5, -0.15), ncol=5)"
   ]
  },
  {
   "cell_type": "markdown",
   "metadata": {},
   "source": [
    "**Global**"
   ]
  },
  {
   "cell_type": "code",
   "execution_count": 29,
   "metadata": {
    "jupyter": {
     "source_hidden": true
    }
   },
   "outputs": [
    {
     "data": {
      "text/plain": [
       "<matplotlib.legend.Legend at 0x7f5c23c8dba8>"
      ]
     },
     "execution_count": 29,
     "metadata": {},
     "output_type": "execute_result"
    },
    {
     "data": {
      "image/png": "[encoded data removed]",
      "text/plain": [
       "<Figure size 432x288 with 1 Axes>"
      ]
     },
     "metadata": {},
     "output_type": "display_data"
    }
   ],
   "source": [
    "g_compliance_data = json.load(open('./polisis_queries/compliance/Global.json'))\n",
    "\n",
    "g_compliance_by_query = {}\n",
    "for pid in g_compliance_data:\n",
    "    queryset = g_compliance_data.get(pid).get('queries').get('rights')\n",
    "    for q in queryset:\n",
    "        if q == 'retention_period_of_personal_data': continue\n",
    "        # Init if needed\n",
    "        if g_compliance_by_query.get(q) is None: g_compliance_by_query[q] = {'fully':0, 'improved':0, 'never':0, 'worse':0}\n",
    "        # Set flags for compliance\n",
    "        is_pre_comp = queryset.get(q).get('archive').get('count') > 0\n",
    "        is_post_comp = queryset.get(q).get('current').get('count') > 0 \n",
    "        \n",
    "        # Compare pre v. post\n",
    "        result = (\n",
    "            'fully' if is_pre_comp and is_post_comp else \n",
    "            'improved' if is_post_comp and not is_pre_comp else \n",
    "            'worse' if is_pre_comp and not is_post_comp else \n",
    "            'never'\n",
    "        )\n",
    "        \n",
    "        # Update\n",
    "        g_compliance_by_query[q][result] += 1\n",
    "        \n",
    "        \n",
    "        continue # queries\n",
    "    continue # pids\n",
    "\n",
    "g_compliance_datarows = []\n",
    "for query in g_compliance_by_query:\n",
    "    total = sum([g_compliance_by_query.get(query).get(result) for result in ['fully', 'improved', 'worse', 'never']])\n",
    "    g_compliance_datarows.append({\n",
    "        'query':query, \n",
    "        'fully':g_compliance_by_query.get(query).get('fully')/total,\n",
    "        'improved':g_compliance_by_query.get(query).get('improved')/total,\n",
    "        'worse':g_compliance_by_query.get(query).get('worse')/total,\n",
    "        'never':g_compliance_by_query.get(query).get('never')/total,\n",
    "    })\n",
    "    \n",
    "\n",
    "g_compl_df = pd.DataFrame.from_dict(g_compliance_datarows)\n",
    "g_compl_df = g_compl_df.groupby('query', sort=False).agg(['sum'])\n",
    "g_plotter = g_compl_df.div(g_compl_df.sum(axis=1), axis=0).multiply(100)\n",
    "\n",
    "ax = g_plotter.plot(kind='barh', stacked=True, colormap='tab20c', sort_columns=True)\n",
    "ax.spines['top'].set_visible(False)\n",
    "ax.spines['right'].set_visible(False)\n",
    "ax.set_ylabel('ICO Query ID')\n",
    "ax.set_xlabel('% Policies')\n",
    "legend_list = ['Fully','Improved', 'Never', 'Worse']\n",
    "plt.legend(legend_list, loc='upper center', bbox_to_anchor=(0.5, -0.15), ncol=5)"
   ]
  },
  {
   "cell_type": "markdown",
   "metadata": {},
   "source": [
    "### Specificity Analysis"
   ]
  },
  {
   "cell_type": "markdown",
   "metadata": {},
   "source": [
    "**EU**"
   ]
  },
  {
   "cell_type": "code",
   "execution_count": null,
   "metadata": {},
   "outputs": [],
   "source": []
  },
  {
   "cell_type": "markdown",
   "metadata": {},
   "source": [
    "**Global**"
   ]
  },
  {
   "cell_type": "code",
   "execution_count": null,
   "metadata": {},
   "outputs": [],
   "source": []
  },
  {
   "cell_type": "code",
   "execution_count": null,
   "metadata": {},
   "outputs": [],
   "source": []
  }
 ],
 "metadata": {
  "kernelspec": {
   "display_name": "Python 3",
   "language": "python",
   "name": "python3"
  },
  "language_info": {
   "codemirror_mode": {
    "name": "ipython",
    "version": 3
   },
   "file_extension": ".py",
   "mimetype": "text/x-python",
   "name": "python",
   "nbconvert_exporter": "python",
   "pygments_lexer": "ipython3",
   "version": "3.6.8"
  }
 },
 "nbformat": 4,
 "nbformat_minor": 4
}
